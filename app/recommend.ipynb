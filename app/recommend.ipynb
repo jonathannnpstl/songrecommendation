{
 "cells": [
  {
   "cell_type": "code",
   "execution_count": 12,
   "metadata": {},
   "outputs": [],
   "source": [
    "import os\n",
    "import pandas as pd\n",
    "import numpy as np\n",
    "from scipy import spatial\n",
    "from sklearn.preprocessing import StandardScaler, MinMaxScaler\n",
    "from scipy.spatial import distance\n",
    "from sklearn.metrics.pairwise import cosine_similarity\n",
    "# import warnings\n",
    "# warnings.filterwarnings(\"ignore\")"
   ]
  },
  {
   "cell_type": "code",
   "execution_count": 9,
   "metadata": {},
   "outputs": [
    {
     "name": "stdout",
     "output_type": "stream",
     "text": [
      "        Unnamed: 0                track_id                 artists  \\\n",
      "0                0  5SuOikwiRyPMVoIQDJUgSV             Gen Hoshino   \n",
      "1                1  4qPNDBW1i3p13qLCt0Ki3A            Ben Woodward   \n",
      "2                2  1iJBSr7s7jYXzM8EGcbK5b  Ingrid Michaelson;ZAYN   \n",
      "3                3  6lfxq3CG4xtTiEg7opyCyx            Kina Grannis   \n",
      "4                4  5vjLSffimiIP26QG5WcN2K        Chord Overstreet   \n",
      "...            ...                     ...                     ...   \n",
      "113995      113995  2C3TZjDRiAzdyViavDJ217           Rainy Lullaby   \n",
      "113996      113996  1hIz5L4IB9hN3WRYPOCGPw           Rainy Lullaby   \n",
      "113997      113997  6x8ZfSoqDjuNa5SVP5QjvX           Cesária Evora   \n",
      "113998      113998  2e6sXL2bYv4bSz6VTdnfLs        Michael W. Smith   \n",
      "113999      113999  2hETkH7cOfqmz3LqZDHZf5           Cesária Evora   \n",
      "\n",
      "                                               album_name  \\\n",
      "0                                                  Comedy   \n",
      "1                                        Ghost (Acoustic)   \n",
      "2                                          To Begin Again   \n",
      "3       Crazy Rich Asians (Original Motion Picture Sou...   \n",
      "4                                                 Hold On   \n",
      "...                                                   ...   \n",
      "113995  #mindfulness - Soft Rain for Mindful Meditatio...   \n",
      "113996  #mindfulness - Soft Rain for Mindful Meditatio...   \n",
      "113997                                            Best Of   \n",
      "113998                                  Change Your World   \n",
      "113999                                     Miss Perfumado   \n",
      "\n",
      "                        track_name  popularity  duration_ms  explicit  \\\n",
      "0                           Comedy          73       230666     False   \n",
      "1                 Ghost - Acoustic          55       149610     False   \n",
      "2                   To Begin Again          57       210826     False   \n",
      "3       Can't Help Falling In Love          71       201933     False   \n",
      "4                          Hold On          82       198853     False   \n",
      "...                            ...         ...          ...       ...   \n",
      "113995         Sleep My Little Boy          21       384999     False   \n",
      "113996            Water Into Light          22       385000     False   \n",
      "113997              Miss Perfumado          22       271466     False   \n",
      "113998                     Friends          41       283893     False   \n",
      "113999                   Barbincor          22       241826     False   \n",
      "\n",
      "        danceability  energy  ...  loudness  mode  speechiness  acousticness  \\\n",
      "0              0.676  0.4610  ...    -6.746     0       0.1430        0.0322   \n",
      "1              0.420  0.1660  ...   -17.235     1       0.0763        0.9240   \n",
      "2              0.438  0.3590  ...    -9.734     1       0.0557        0.2100   \n",
      "3              0.266  0.0596  ...   -18.515     1       0.0363        0.9050   \n",
      "4              0.618  0.4430  ...    -9.681     1       0.0526        0.4690   \n",
      "...              ...     ...  ...       ...   ...          ...           ...   \n",
      "113995         0.172  0.2350  ...   -16.393     1       0.0422        0.6400   \n",
      "113996         0.174  0.1170  ...   -18.318     0       0.0401        0.9940   \n",
      "113997         0.629  0.3290  ...   -10.895     0       0.0420        0.8670   \n",
      "113998         0.587  0.5060  ...   -10.889     1       0.0297        0.3810   \n",
      "113999         0.526  0.4870  ...   -10.204     0       0.0725        0.6810   \n",
      "\n",
      "        instrumentalness  liveness  valence    tempo  time_signature  \\\n",
      "0               0.000001    0.3580   0.7150   87.917               4   \n",
      "1               0.000006    0.1010   0.2670   77.489               4   \n",
      "2               0.000000    0.1170   0.1200   76.332               4   \n",
      "3               0.000071    0.1320   0.1430  181.740               3   \n",
      "4               0.000000    0.0829   0.1670  119.949               4   \n",
      "...                  ...       ...      ...      ...             ...   \n",
      "113995          0.928000    0.0863   0.0339  125.995               5   \n",
      "113996          0.976000    0.1050   0.0350   85.239               4   \n",
      "113997          0.000000    0.0839   0.7430  132.378               4   \n",
      "113998          0.000000    0.2700   0.4130  135.960               4   \n",
      "113999          0.000000    0.0893   0.7080   79.198               4   \n",
      "\n",
      "        track_genre  \n",
      "0          acoustic  \n",
      "1          acoustic  \n",
      "2          acoustic  \n",
      "3          acoustic  \n",
      "4          acoustic  \n",
      "...             ...  \n",
      "113995  world-music  \n",
      "113996  world-music  \n",
      "113997  world-music  \n",
      "113998  world-music  \n",
      "113999  world-music  \n",
      "\n",
      "[114000 rows x 21 columns]\n"
     ]
    }
   ],
   "source": [
    "data = pd.read_csv(\"./dataset.csv\")\n",
    "print(data)\n",
    "\n",
    "#remove rows with no track name\n",
    "df=data[data.columns[5:20]]\n",
    "df['track_genre']=data['track_genre']\n",
    "df['time_signature']=data['time_signature']\n",
    "df['duration_ms']=data['duration_ms']\n",
    "df['track_name']=data['track_name']\n",
    "df['track_id']=data['track_id']\n",
    "\n",
    "\n",
    "x=df[df.drop(columns=['track_name','track_genre', 'track_id']).columns].values\n",
    "scaler = MinMaxScaler().fit(x)\n",
    "X_scaled = scaler.transform(x)\n",
    "df[df.drop(columns=['track_name','track_genre', 'track_id']).columns]=X_scaled\n"
   ]
  },
  {
   "cell_type": "code",
   "execution_count": 10,
   "metadata": {},
   "outputs": [
    {
     "name": "stdout",
     "output_type": "stream",
     "text": [
      "The song closest to your search is : 2xXNLutYAOELYVObYb1C1S\n",
      "['2xXNLutYAOELYVObYb1C1S' '5b6enCVP67LsqqrfTs6rxr'\n",
      " '2jdAk8ATWIL3dwT47XpRfu' '7keXdrB4mz57u4b8YkCwag'\n",
      " '6EIVLz5xM1xE29r0OmIkWt' '5nTbPFqLKmQdIg1SD8KgG4'\n",
      " '28iWca1I2wjlrkfiMMP0aL' '2nekCvC9XRXQckWNnkIp2l'\n",
      " '7cpCU3Denug5NGZsSpQl8v' '72zHuDxFQTjbL51qJQSA7j']\n"
     ]
    }
   ],
   "source": [
    "def make_matrix_correlation(data,song,number):\n",
    "    df=pd.DataFrame()\n",
    "    data.drop_duplicates(inplace=True)\n",
    "    track_id=\"2xXNLutYAOELYVObYb1C1S\"\n",
    "    print('The song closest to your search is :',track_id)\n",
    "    track_genre=data[data['track_id']==track_id]['track_genre'].values[0]\n",
    "    df=data[data['track_genre']==track_genre]\n",
    "    track_attr=df[df['track_id']==track_id].drop(columns=['track_genre','track_name', 'track_id','duration_ms', 'explicit',   'mode', 'liveness']).values \n",
    "    if len(track_attr)>1:\n",
    "        track_attr=track_attr[1]\n",
    "    track_id=df['track_id'].values\n",
    "    df.drop(columns=['track_genre','track_name', 'duration_ms', 'explicit',  'mode', 'liveness'],inplace=True)\n",
    "    track_attr = track_attr.flatten()\n",
    "    df.fillna(df.drop('track_id', axis=1).mean())\n",
    "    df['sim'] = cosine_similarity(df.drop('track_id', axis = 1).values, track_attr.reshape(1, -1))[:,0]\n",
    "    top_10 = df.sort_values('sim',ascending = False).head(10)['track_id'].values\n",
    "    \n",
    "    print(top_10)\n",
    "      \n",
    "\n",
    "make_matrix_correlation(df, \"\", 10)"
   ]
  },
  {
   "cell_type": "code",
   "execution_count": 17,
   "metadata": {},
   "outputs": [],
   "source": [
    "data = pd.read_csv(\"./dataset.csv\")\n",
    "\n",
    "df=data[data.columns[5:20]]\n",
    "df['track_genre']=data.loc[:,'track_genre']\n",
    "df['time_signature']=data.loc[:,'time_signature']\n",
    "df['duration_ms']=data.loc[:,'duration_ms']\n",
    "df['track_name']=data.loc[:,'track_name']\n",
    "df['track_id']=data.loc[:,'track_id']\n",
    "\n",
    "\n",
    "x=df[df.drop(columns=['track_name','track_genre', 'track_id']).columns].values\n",
    "scaler = StandardScaler().fit(x)\n",
    "X_scaled = scaler.transform(x)\n",
    "df[df.drop(columns=['track_name','track_genre', 'track_id']).columns]=X_scaled"
   ]
  },
  {
   "cell_type": "code",
   "execution_count": 18,
   "metadata": {},
   "outputs": [
    {
     "name": "stdout",
     "output_type": "stream",
     "text": [
      "['2vXKRlJBXyOcvZYTdNeckS' '7I8UTLiBA1ptFm04WulwhH'\n",
      " '4I4p4iwxzFzdiz1WOZdZk7' '0F1yb5tFzXDocAXqcljA9H'\n",
      " '095nyFKlTwa9JIp9cVrHOF' '6miahXSZE01l2lNDqNCfxQ'\n",
      " '1TYSdxFGUKUrsd7a0FJX7u' '37GD7jrPe7DubPim1i5kJI'\n",
      " '0I43ju6kU6lWOyElMDJEj9' '0zAAGOZZcnZxdZGAaSAj8k']\n"
     ]
    }
   ],
   "source": [
    "def make_matrix_correlation(song,number):\n",
    "    data=pd.DataFrame()\n",
    "    df.drop_duplicates(inplace=True)\n",
    "    track_id=song\n",
    "    track_genre=df[df['track_id']==track_id]['track_genre'].values[0]\n",
    "    data=df[df['track_genre']==track_genre]\n",
    "    track_attr=data[data['track_id']==track_id].drop(columns=['track_genre','track_name','track_id', 'duration_ms', 'explicit',  'mode', 'liveness']).values\n",
    "    if len(track_attr)>1:\n",
    "        track_attr=track_attr[1]\n",
    "    data.drop(columns=['track_genre','track_name', 'duration_ms', 'explicit',   'mode', 'liveness'],inplace=True)\n",
    "    track_attr = track_attr.flatten() \n",
    "    data.fillna(data.drop('track_id', axis=1).mean())\n",
    "    data['sim'] = cosine_similarity(data.drop('track_id', axis = 1).values, track_attr.reshape(1, -1))[:,0]\n",
    "    top_10 = data.sort_values('sim',ascending = False).head(10)['track_id'].values\n",
    "    return top_10\n",
    "    \n",
    "    # return top_10\n",
    "print(make_matrix_correlation(\"2vXKRlJBXyOcvZYTdNeckS\", 10))"
   ]
  }
 ],
 "metadata": {
  "kernelspec": {
   "display_name": "Python 3.9.6 ('.venv': venv)",
   "language": "python",
   "name": "python3"
  },
  "language_info": {
   "codemirror_mode": {
    "name": "ipython",
    "version": 3
   },
   "file_extension": ".py",
   "mimetype": "text/x-python",
   "name": "python",
   "nbconvert_exporter": "python",
   "pygments_lexer": "ipython3",
   "version": "3.9.6"
  },
  "orig_nbformat": 4,
  "vscode": {
   "interpreter": {
    "hash": "d5a0319fb84b57699de8573a27c9127eb9c41c7780cf91cf4c232608cd0d3bfd"
   }
  }
 },
 "nbformat": 4,
 "nbformat_minor": 2
}
